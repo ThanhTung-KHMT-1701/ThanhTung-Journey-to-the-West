{
  "cells": [
    {
      "cell_type": "code",
      "execution_count": null,
      "metadata": {
        "colab": {
          "base_uri": "https://localhost:8080/"
        },
        "collapsed": true,
        "id": "IU6DnT4IKYj8",
        "outputId": "b19e8929-ae94-41fa-f5ff-d6ff60c395a6"
      },
      "outputs": [],
      "source": [
        "# prompt: pip install pandas scikit-learn tensorflow matplotlib\n",
        "\n",
        "!pip install pandas scikit-learn tensorflow matplotlib"
      ]
    },
    {
      "cell_type": "code",
      "execution_count": null,
      "metadata": {
        "id": "QqITrM31K1gw"
      },
      "outputs": [],
      "source": [
        "import pandas as pd\n",
        "import matplotlib.pyplot as plt\n",
        "from sklearn.model_selection import train_test_split, StratifiedKFold, ParameterGrid\n",
        "from sklearn.preprocessing import StandardScaler\n",
        "from sklearn.metrics import classification_report, accuracy_score, precision_score, recall_score, f1_score\n",
        "import tensorflow as tf\n",
        "from tensorflow.keras.models import Sequential\n",
        "from tensorflow.keras.layers import Dense\n",
        "from tensorflow.keras.optimizers import Adam\n",
        "import numpy as np"
      ]
    },
    {
      "cell_type": "code",
      "execution_count": null,
      "metadata": {
        "colab": {
          "base_uri": "https://localhost:8080/"
        },
        "id": "gomki8TdHxwO",
        "outputId": "554b582f-534f-44e7-e729-1ee8ad2667d6"
      },
      "outputs": [],
      "source": [
        "print(tf.__version__)\n",
        "print(tf.config.list_physical_devices())\n",
        "\n",
        "# ==================== ⚙️ Cấu hình GPU ====================\n",
        "gpus = tf.config.list_physical_devices('GPU')\n",
        "if gpus:\n",
        "    try:\n",
        "        for gpu in gpus:\n",
        "            tf.config.experimental.set_memory_growth(gpu, True)\n",
        "        tf.config.set_visible_devices(gpus[0], 'GPU')\n",
        "        print(f\"Đã phát hiện và cấu hình GPU: {gpus[0].name}\")\n",
        "    except RuntimeError as e:\n",
        "        print(\"Lỗi khi cấu hình GPU:\", e)\n",
        "else:\n",
        "    raise RuntimeError(\"Không phát hiện GPU nào! Vui lòng kiểm tra driver và CUDA.\")"
      ]
    },
    {
      "cell_type": "code",
      "execution_count": 6,
      "metadata": {
        "colab": {
          "base_uri": "https://localhost:8080/"
        },
        "collapsed": true,
        "id": "8TFPhcbUN4E8",
        "outputId": "92a9ed08-6538-4856-ed18-ef71db78d272"
      },
      "outputs": [
        {
          "name": "stdout",
          "output_type": "stream",
          "text": [
            "<class 'pandas.core.frame.DataFrame'>\n",
            "RangeIndex: 1470 entries, 0 to 1469\n",
            "Data columns (total 45 columns):\n",
            " #   Column                             Non-Null Count  Dtype\n",
            "---  ------                             --------------  -----\n",
            " 0   Age                                1470 non-null   int64\n",
            " 1   Attrition                          1470 non-null   int64\n",
            " 2   DailyRate                          1470 non-null   int64\n",
            " 3   DistanceFromHome                   1470 non-null   int64\n",
            " 4   Education                          1470 non-null   int64\n",
            " 5   EnvironmentSatisfaction            1470 non-null   int64\n",
            " 6   HourlyRate                         1470 non-null   int64\n",
            " 7   JobInvolvement                     1470 non-null   int64\n",
            " 8   JobLevel                           1470 non-null   int64\n",
            " 9   JobSatisfaction                    1470 non-null   int64\n",
            " 10  MonthlyIncome                      1470 non-null   int64\n",
            " 11  MonthlyRate                        1470 non-null   int64\n",
            " 12  NumCompaniesWorked                 1470 non-null   int64\n",
            " 13  PercentSalaryHike                  1470 non-null   int64\n",
            " 14  PerformanceRating                  1470 non-null   int64\n",
            " 15  RelationshipSatisfaction           1470 non-null   int64\n",
            " 16  StockOptionLevel                   1470 non-null   int64\n",
            " 17  TotalWorkingYears                  1470 non-null   int64\n",
            " 18  TrainingTimesLastYear              1470 non-null   int64\n",
            " 19  WorkLifeBalance                    1470 non-null   int64\n",
            " 20  YearsAtCompany                     1470 non-null   int64\n",
            " 21  YearsInCurrentRole                 1470 non-null   int64\n",
            " 22  YearsSinceLastPromotion            1470 non-null   int64\n",
            " 23  YearsWithCurrManager               1470 non-null   int64\n",
            " 24  BusinessTravel_Travel_Frequently   1470 non-null   bool \n",
            " 25  BusinessTravel_Travel_Rarely       1470 non-null   bool \n",
            " 26  Department_Research & Development  1470 non-null   bool \n",
            " 27  Department_Sales                   1470 non-null   bool \n",
            " 28  EducationField_Life Sciences       1470 non-null   bool \n",
            " 29  EducationField_Marketing           1470 non-null   bool \n",
            " 30  EducationField_Medical             1470 non-null   bool \n",
            " 31  EducationField_Other               1470 non-null   bool \n",
            " 32  EducationField_Technical Degree    1470 non-null   bool \n",
            " 33  Gender_Male                        1470 non-null   bool \n",
            " 34  JobRole_Human Resources            1470 non-null   bool \n",
            " 35  JobRole_Laboratory Technician      1470 non-null   bool \n",
            " 36  JobRole_Manager                    1470 non-null   bool \n",
            " 37  JobRole_Manufacturing Director     1470 non-null   bool \n",
            " 38  JobRole_Research Director          1470 non-null   bool \n",
            " 39  JobRole_Research Scientist         1470 non-null   bool \n",
            " 40  JobRole_Sales Executive            1470 non-null   bool \n",
            " 41  JobRole_Sales Representative       1470 non-null   bool \n",
            " 42  MaritalStatus_Married              1470 non-null   bool \n",
            " 43  MaritalStatus_Single               1470 non-null   bool \n",
            " 44  OverTime_Yes                       1470 non-null   bool \n",
            "dtypes: bool(21), int64(24)\n",
            "memory usage: 305.9 KB\n"
          ]
        }
      ],
      "source": [
        "df = pd.read_csv(\"WA_Fn-UseC_-HR-Employee-Attrition.csv\")\n",
        "df = df.drop(columns=['EmployeeCount', 'EmployeeNumber', 'Over18', 'StandardHours'])\n",
        "df['Attrition'] = df['Attrition'].map({'Yes': 1, 'No': 0})\n",
        "df = pd.get_dummies(df, drop_first=True)\n",
        "\n",
        "df.info()"
      ]
    },
    {
      "cell_type": "code",
      "execution_count": null,
      "metadata": {
        "id": "jnmYsoxlTUf0"
      },
      "outputs": [],
      "source": [
        "X = df.drop('Attrition', axis=1)\n",
        "y = df['Attrition']\n",
        "scaler = StandardScaler()\n",
        "X_scaled = scaler.fit_transform(X)"
      ]
    },
    {
      "cell_type": "code",
      "execution_count": null,
      "metadata": {
        "id": "tyV7OFZmTrzP"
      },
      "outputs": [],
      "source": [
        "\n",
        "# 2.2. Xây dựng mô hình\n",
        "def build_ann_model(input_dim, learning_rate=0.001, activation='relu',\n",
        "                    hidden_layers=2, units_per_layer=32):\n",
        "    model = Sequential()\n",
        "    model.add(Dense(units_per_layer, input_dim=input_dim, activation=activation))\n",
        "\n",
        "    for _ in range(hidden_layers - 1):\n",
        "        model.add(Dense(units_per_layer, activation=activation))\n",
        "\n",
        "    model.add(Dense(1, activation='sigmoid'))\n",
        "    optimizer = Adam(learning_rate=learning_rate)\n",
        "    model.compile(optimizer=optimizer, loss='binary_crossentropy', metrics=['accuracy'])\n",
        "    return model"
      ]
    },
    {
      "cell_type": "code",
      "execution_count": null,
      "metadata": {
        "colab": {
          "base_uri": "https://localhost:8080/"
        },
        "collapsed": true,
        "id": "tQSu4-TcTxZR",
        "outputId": "94fcd73e-ca7f-49f2-d322-322389798cf1"
      },
      "outputs": [],
      "source": [
        "# 2.3. Đánh giá hiệu suất mô hình cơ bản\n",
        "X_train, X_test, y_train, y_test = train_test_split(\n",
        "    X_scaled, y, test_size=0.2, stratify=y, random_state=42)\n",
        "\n",
        "model = build_ann_model(input_dim=X_train.shape[1],\n",
        "                        learning_rate=0.001,\n",
        "                        activation='relu',\n",
        "                        hidden_layers=3,\n",
        "                        units_per_layer=64)\n",
        "\n",
        "history = model.fit(X_train, y_train, epochs=1000, batch_size=32, validation_split=0.1, verbose=1)\n",
        "\n",
        "y_pred = (model.predict(X_test) > 0.5).astype(\"int32\")\n",
        "print(\"Accuracy:\", accuracy_score(y_test, y_pred))\n",
        "print(classification_report(y_test, y_pred))"
      ]
    },
    {
      "cell_type": "code",
      "execution_count": null,
      "metadata": {
        "id": "D6JhLEgSZIXW"
      },
      "outputs": [],
      "source": []
    },
    {
      "cell_type": "code",
      "execution_count": null,
      "metadata": {
        "colab": {
          "base_uri": "https://localhost:8080/"
        },
        "id": "pWMCqbzsX3sd",
        "outputId": "0bdf5f4e-a9cc-45fe-af58-c092ba1108c9"
      },
      "outputs": [],
      "source": [
        "model.save(\"ann_attrition_model.h5\")\n",
        "print(\"Mô hình cơ bản đã được lưu vào ann_attrition_model.h5\")"
      ]
    },
    {
      "cell_type": "code",
      "execution_count": null,
      "metadata": {
        "colab": {
          "base_uri": "https://localhost:8080/"
        },
        "id": "r1e30_N-ZK6s",
        "outputId": "2cf4b1b3-c897-422e-c3ef-fd07c80f1d63"
      },
      "outputs": [],
      "source": [
        "print(\"\\n=== Cross-Validation với 5 Fold ===\")\n",
        "kf = StratifiedKFold(n_splits=5, shuffle=True, random_state=42)\n",
        "fold = 1\n",
        "for train_index, val_index in kf.split(X_scaled, y):\n",
        "    X_tr, X_val = X_scaled[train_index], X_scaled[val_index]\n",
        "    y_tr, y_val = y.iloc[train_index], y.iloc[val_index]\n",
        "\n",
        "    temp_model = build_ann_model(input_dim=X_tr.shape[1],\n",
        "                                 learning_rate=0.001,\n",
        "                                 activation='relu',\n",
        "                                 hidden_layers=2,\n",
        "                                 units_per_layer=32)\n",
        "\n",
        "    temp_model.fit(X_tr, y_tr, epochs=30, batch_size=32, verbose=0)\n",
        "    y_val_pred = (temp_model.predict(X_val) > 0.5).astype(\"int32\")\n",
        "    acc = accuracy_score(y_val, y_val_pred)\n",
        "    print(f\"Fold {fold} Accuracy: {acc:.4f}\")\n",
        "    fold += 1\n"
      ]
    },
    {
      "cell_type": "code",
      "execution_count": null,
      "metadata": {
        "colab": {
          "base_uri": "https://localhost:8080/"
        },
        "id": "w81a24PxayuR",
        "outputId": "736e4a88-3345-4daf-88c0-2d0bf109fc00"
      },
      "outputs": [],
      "source": [
        "param_grid = {\n",
        "    'learning_rate': [0.001, 0.005],\n",
        "    'activation': ['relu', 'tanh'],\n",
        "    'hidden_layers': [2, 3],\n",
        "    'units_per_layer': [32, 64]\n",
        "}\n",
        "\n",
        "grid = list(ParameterGrid(param_grid))\n",
        "print(f\"\\n=== Grid Search: {len(grid)} combinations ===\")\n",
        "\n",
        "best_acc = 0\n",
        "best_params = None\n",
        "best_model = None\n",
        "\n",
        "accuracies = []\n",
        "param_descriptions = []\n",
        "precisions = []\n",
        "recalls = []\n",
        "f1s = []\n",
        "\n",
        "for i, params in enumerate(grid):\n",
        "    print(f\"\\n[{i+1}/{len(grid)}] Đang thử: {params}\")\n",
        "\n",
        "    model = build_ann_model(\n",
        "        input_dim=X_train.shape[1],\n",
        "        learning_rate=params['learning_rate'],\n",
        "        activation=params['activation'],\n",
        "        hidden_layers=params['hidden_layers'],\n",
        "        units_per_layer=params['units_per_layer']\n",
        "    )\n",
        "\n",
        "    model.fit(X_train, y_train, epochs=100, batch_size=32, verbose=0, validation_split=0.1)\n",
        "    y_pred = (model.predict(X_test) > 0.5).astype(\"int32\")\n",
        "\n",
        "    acc = accuracy_score(y_test, y_pred)\n",
        "    prec = precision_score(y_test, y_pred)\n",
        "    rec = recall_score(y_test, y_pred)\n",
        "    f1score = f1_score(y_test, y_pred)\n",
        "\n",
        "    desc = f\"lr={params['learning_rate']}, act={params['activation']}, hl={params['hidden_layers']}, units={params['units_per_layer']}\"\n",
        "    param_descriptions.append(desc)\n",
        "    accuracies.append(acc)\n",
        "    precisions.append(prec)\n",
        "    recalls.append(rec)\n",
        "    f1s.append(f1score)\n",
        "\n",
        "    if acc > best_acc:\n",
        "        best_acc = acc\n",
        "        best_params = params\n",
        "        best_model = model"
      ]
    },
    {
      "cell_type": "code",
      "execution_count": null,
      "metadata": {
        "colab": {
          "base_uri": "https://localhost:8080/",
          "height": 679
        },
        "id": "labnS1_jdZix",
        "outputId": "7cfa8444-62cd-4261-eaff-f11f13ab5229"
      },
      "outputs": [],
      "source": [
        "best_model.save(\"best_ann_model.h5\")\n",
        "print(\"\\nMô hình tốt nhất đã được lưu vào: best_ann_model.h5\")\n",
        "\n",
        "# Vẽ biểu đồ so sánh các cấu hình\n",
        "plt.figure(figsize=(12, 6))\n",
        "plt.barh(param_descriptions, accuracies, color='skyblue')\n",
        "plt.xlabel(\"Accuracy\")\n",
        "plt.title(\"So sánh các cấu hình Grid Search\")\n",
        "plt.tight_layout()\n",
        "plt.savefig(\"gridsearch_comparison.png\")\n",
        "plt.show()"
      ]
    },
    {
      "cell_type": "code",
      "execution_count": null,
      "metadata": {
        "colab": {
          "base_uri": "https://localhost:8080/"
        },
        "id": "Mdj3Idb9dyoo",
        "outputId": "dd8df2ef-6cf1-49d9-d70c-794df9ec95e7"
      },
      "outputs": [],
      "source": [
        "results_df = pd.DataFrame({\n",
        "    'Params': param_descriptions,\n",
        "    'Accuracy': accuracies,\n",
        "    'Precision': precisions,\n",
        "    'Recall': recalls,\n",
        "    'F1-Score': f1s\n",
        "})\n",
        "\n",
        "results_df.to_csv(\"gridsearch_results.csv\", index=False)\n",
        "print(\"Đã lưu kết quả Grid Search chi tiết vào: gridsearch_results.csv\")"
      ]
    }
  ],
  "metadata": {
    "accelerator": "GPU",
    "colab": {
      "gpuType": "A100",
      "machine_shape": "hm",
      "provenance": []
    },
    "kernelspec": {
      "display_name": ".venv",
      "language": "python",
      "name": "python3"
    },
    "language_info": {
      "codemirror_mode": {
        "name": "ipython",
        "version": 3
      },
      "file_extension": ".py",
      "mimetype": "text/x-python",
      "name": "python",
      "nbconvert_exporter": "python",
      "pygments_lexer": "ipython3",
      "version": "3.11.3"
    }
  },
  "nbformat": 4,
  "nbformat_minor": 0
}
